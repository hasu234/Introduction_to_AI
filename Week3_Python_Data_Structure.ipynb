{
  "nbformat": 4,
  "nbformat_minor": 0,
  "metadata": {
    "colab": {
      "name": "Python Data Structure.ipynb",
      "provenance": [],
      "collapsed_sections": []
    },
    "kernelspec": {
      "name": "python3",
      "display_name": "Python 3"
    }
  },
  "cells": [
    {
      "cell_type": "markdown",
      "metadata": {
        "id": "DPFcVTlKrg6L"
      },
      "source": [
        "#Function"
      ]
    },
    {
      "cell_type": "code",
      "metadata": {
        "colab": {
          "base_uri": "https://localhost:8080/"
        },
        "id": "iewuiQz4rkWC",
        "outputId": "70706fb9-5080-4cf3-a230-0f5c407a5458"
      },
      "source": [
        "def my_function():\r\n",
        "\r\n",
        "  print(\"Hello\")\r\n",
        "\r\n",
        "my_function()"
      ],
      "execution_count": null,
      "outputs": [
        {
          "output_type": "stream",
          "text": [
            "Hello\n"
          ],
          "name": "stdout"
        }
      ]
    },
    {
      "cell_type": "markdown",
      "metadata": {
        "id": "K32ODgFbPyZJ"
      },
      "source": [
        "#List"
      ]
    },
    {
      "cell_type": "code",
      "metadata": {
        "id": "W13oZlZ1PuPb"
      },
      "source": [
        "lst0=[1,2,3,32,2.23,43.23,\"python\",[2,32,3]]"
      ],
      "execution_count": null,
      "outputs": []
    },
    {
      "cell_type": "code",
      "metadata": {
        "colab": {
          "base_uri": "https://localhost:8080/",
          "height": 175
        },
        "id": "DfT_tvLCQQkF",
        "outputId": "1d4fb091-5782-4596-99f9-e37b724bd7e0"
      },
      "source": [
        "lst0"
      ],
      "execution_count": null,
      "outputs": [
        {
          "output_type": "error",
          "ename": "NameError",
          "evalue": "ignored",
          "traceback": [
            "\u001b[0;31m---------------------------------------------------------------------------\u001b[0m",
            "\u001b[0;31mNameError\u001b[0m                                 Traceback (most recent call last)",
            "\u001b[0;32m<ipython-input-2-f2d299e33190>\u001b[0m in \u001b[0;36m<module>\u001b[0;34m()\u001b[0m\n\u001b[0;32m----> 1\u001b[0;31m \u001b[0mlst0\u001b[0m\u001b[0;34m\u001b[0m\u001b[0;34m\u001b[0m\u001b[0m\n\u001b[0m",
            "\u001b[0;31mNameError\u001b[0m: name 'lst0' is not defined"
          ]
        }
      ]
    },
    {
      "cell_type": "code",
      "metadata": {
        "id": "emJyoOJWP9ju"
      },
      "source": [
        "lst1=[]"
      ],
      "execution_count": null,
      "outputs": []
    },
    {
      "cell_type": "code",
      "metadata": {
        "colab": {
          "base_uri": "https://localhost:8080/"
        },
        "id": "0I7mg2oQQUdV",
        "outputId": "8f9899bf-8dd6-4995-fc97-721ac43327ce"
      },
      "source": [
        "lst1"
      ],
      "execution_count": null,
      "outputs": [
        {
          "output_type": "execute_result",
          "data": {
            "text/plain": [
              "[]"
            ]
          },
          "metadata": {
            "tags": []
          },
          "execution_count": 18
        }
      ]
    },
    {
      "cell_type": "code",
      "metadata": {
        "colab": {
          "base_uri": "https://localhost:8080/"
        },
        "id": "NLCcH3PpVLCi",
        "outputId": "ce4c974e-e0c3-48fa-e138-66df30aa6d0f"
      },
      "source": [
        "array=(1,3,5,7)\r\n",
        "array"
      ],
      "execution_count": null,
      "outputs": [
        {
          "output_type": "execute_result",
          "data": {
            "text/plain": [
              "(1, 3, 5, 7)"
            ]
          },
          "metadata": {
            "tags": []
          },
          "execution_count": 19
        }
      ]
    },
    {
      "cell_type": "code",
      "metadata": {
        "colab": {
          "base_uri": "https://localhost:8080/"
        },
        "id": "HSpqgnCQQGBs",
        "outputId": "8040764e-eb1f-4b0f-fed9-ab08e852c44c"
      },
      "source": [
        "lst2 = list(array)\r\n",
        "lst2"
      ],
      "execution_count": null,
      "outputs": [
        {
          "output_type": "execute_result",
          "data": {
            "text/plain": [
              "[1, 3, 5, 7]"
            ]
          },
          "metadata": {
            "tags": []
          },
          "execution_count": 20
        }
      ]
    },
    {
      "cell_type": "code",
      "metadata": {
        "colab": {
          "base_uri": "https://localhost:8080/"
        },
        "id": "9v0aU0BRVSj3",
        "outputId": "8d9856d0-6a55-4a68-b199-7d8d2ad667f2"
      },
      "source": [
        "type(lst2)"
      ],
      "execution_count": null,
      "outputs": [
        {
          "output_type": "execute_result",
          "data": {
            "text/plain": [
              "list"
            ]
          },
          "metadata": {
            "tags": []
          },
          "execution_count": 21
        }
      ]
    },
    {
      "cell_type": "code",
      "metadata": {
        "colab": {
          "base_uri": "https://localhost:8080/"
        },
        "id": "8dqubZtUVs3I",
        "outputId": "2a59769f-513b-4cf8-b740-81d621726236"
      },
      "source": [
        "for i in lst0:\r\n",
        "    print(i, end=' ')\r\n",
        "print('')"
      ],
      "execution_count": null,
      "outputs": [
        {
          "output_type": "stream",
          "text": [
            "1 2 3 32 2.23 43.23 python [2, 32, 3] \n"
          ],
          "name": "stdout"
        }
      ]
    },
    {
      "cell_type": "code",
      "metadata": {
        "colab": {
          "base_uri": "https://localhost:8080/"
        },
        "id": "xnUADtVoV1Np",
        "outputId": "e219ed24-50ab-4f42-c811-bf173e0e61bf"
      },
      "source": [
        "lst0=[1,2,3,32,2.23,43.23,\"python\",[2,32,3]]\r\n",
        "print(lst0[2])\r\n",
        "print(lst0[6])\r\n",
        "print(lst0[-2])\r\n",
        "print(lst0[7][1])"
      ],
      "execution_count": null,
      "outputs": [
        {
          "output_type": "stream",
          "text": [
            "3\n",
            "python\n",
            "python\n",
            "32\n"
          ],
          "name": "stdout"
        }
      ]
    },
    {
      "cell_type": "code",
      "metadata": {
        "colab": {
          "base_uri": "https://localhost:8080/"
        },
        "id": "7_njZRBrWeaF",
        "outputId": "542093a3-03ad-4d67-c2f3-7b0f224e1680"
      },
      "source": [
        "#list slicing\r\n",
        "\r\n",
        "lst0=[1,2,3,32,2.23,43.23,\"python\",[2,32,3]]\r\n",
        "\r\n",
        "print(lst0[2:7])\r\n",
        "print(lst0[2:])\r\n",
        "print(lst0[:5])\r\n",
        "print(lst0[:])"
      ],
      "execution_count": null,
      "outputs": [
        {
          "output_type": "stream",
          "text": [
            "[3, 32, 2.23, 43.23, 'python']\n",
            "[3, 32, 2.23, 43.23, 'python', [2, 32, 3]]\n",
            "[1, 2, 3, 32, 2.23]\n",
            "[1, 2, 3, 32, 2.23, 43.23, 'python', [2, 32, 3]]\n"
          ],
          "name": "stdout"
        }
      ]
    },
    {
      "cell_type": "code",
      "metadata": {
        "colab": {
          "base_uri": "https://localhost:8080/"
        },
        "id": "J8YCM3gkWpPw",
        "outputId": "990c4245-c20a-4381-b230-b2da26bb0703"
      },
      "source": [
        "#List operations\r\n",
        "\r\n",
        "lst0=[1,2,3,32, 2, 2.23,43.23,\"python\",[2,32,3]]\r\n",
        "\r\n",
        "print(len(lst0))                #len( ) gives the length of the list\r\n",
        "\r\n",
        "lst0.append([12,2,12,2])        #append( ) inserts an element to the end of the list\r\n",
        "print(lst0)\r\n",
        "\r\n",
        "lst0.insert(6,\"pandas\")         #insert( ) insertes an element on a given index\r\n",
        "print(lst0)\r\n",
        "\r\n",
        "lst0.remove(3)                  #remove( ) removes first occurence of an element\r\n",
        "print(lst0)\r\n",
        "\r\n",
        "print(lst0.count(2))        #count( ) reuturns the number of occurence of an element\r\n",
        "\r\n",
        "lst0.pop(2)                     #pop element from list\r\n",
        "print(lst0)\r\n",
        "\r\n",
        "print(lst0.reverse())           #reverse( ) makes a reverse list\r\n",
        "\r\n",
        "lst1=lst0.copy()                #copy( ) makes a copy of list\r\n",
        "print(lst1)\r\n",
        "\r\n",
        "lst0.clear()                    #clear( ) makes the list empty\r\n",
        "print(lst0)"
      ],
      "execution_count": null,
      "outputs": [
        {
          "output_type": "stream",
          "text": [
            "9\n",
            "[1, 2, 3, 32, 2, 2.23, 43.23, 'python', [2, 32, 3], [12, 2, 12, 2]]\n",
            "[1, 2, 3, 32, 2, 2.23, 'pandas', 43.23, 'python', [2, 32, 3], [12, 2, 12, 2]]\n",
            "[1, 2, 32, 2, 2.23, 'pandas', 43.23, 'python', [2, 32, 3], [12, 2, 12, 2]]\n",
            "2\n",
            "[1, 2, 2, 2.23, 'pandas', 43.23, 'python', [2, 32, 3], [12, 2, 12, 2]]\n",
            "None\n",
            "[[12, 2, 12, 2], [2, 32, 3], 'python', 43.23, 'pandas', 2.23, 2, 2, 1]\n",
            "[]\n"
          ],
          "name": "stdout"
        }
      ]
    },
    {
      "cell_type": "code",
      "metadata": {
        "id": "ciTO619wW_ff"
      },
      "source": [
        "#list sorting\r\n",
        "lst2=[1,2,4,2,4,2,4,2,5,6,7,4]"
      ],
      "execution_count": null,
      "outputs": []
    },
    {
      "cell_type": "code",
      "metadata": {
        "colab": {
          "base_uri": "https://localhost:8080/"
        },
        "id": "-5-O6QhCXLXM",
        "outputId": "4e270eab-c937-4772-94c1-70b702c4c204"
      },
      "source": [
        "lst3=sorted(lst2)\r\n",
        "print(lst3)"
      ],
      "execution_count": null,
      "outputs": [
        {
          "output_type": "stream",
          "text": [
            "[1, 2, 2, 2, 2, 4, 4, 4, 4, 5, 6, 7]\n"
          ],
          "name": "stdout"
        }
      ]
    },
    {
      "cell_type": "code",
      "metadata": {
        "colab": {
          "base_uri": "https://localhost:8080/"
        },
        "id": "hU2wSE1rXHPz",
        "outputId": "4b4b965c-8981-487c-e10b-1cedec6081bc"
      },
      "source": [
        "lst2.sort()\r\n",
        "print(lst2)"
      ],
      "execution_count": null,
      "outputs": [
        {
          "output_type": "stream",
          "text": [
            "[1, 2, 2, 2, 2, 4, 4, 4, 4, 5, 6, 7]\n"
          ],
          "name": "stdout"
        }
      ]
    },
    {
      "cell_type": "code",
      "metadata": {
        "colab": {
          "base_uri": "https://localhost:8080/"
        },
        "id": "JBkRZEJqYWth",
        "outputId": "ac3dc34f-8ab4-4e2e-8116-f1380851b49b"
      },
      "source": [
        "#unpacking sequences\r\n",
        "\r\n",
        "lst=[2.23,43.23,\"python\",[2,32,3]]\r\n",
        "a,b,c,d = lst\r\n",
        "print(a)\r\n",
        "print(b)\r\n",
        "print(c)\r\n",
        "print(d)"
      ],
      "execution_count": null,
      "outputs": [
        {
          "output_type": "stream",
          "text": [
            "2.23\n",
            "43.23\n",
            "python\n",
            "[2, 32, 3]\n"
          ],
          "name": "stdout"
        }
      ]
    },
    {
      "cell_type": "markdown",
      "metadata": {
        "id": "d8oz-g72XXe1"
      },
      "source": [
        "#Tuple"
      ]
    },
    {
      "cell_type": "code",
      "metadata": {
        "colab": {
          "base_uri": "https://localhost:8080/"
        },
        "id": "Gvp_J8qOXZ8K",
        "outputId": "ab23f6e1-e8de-4fd7-a7f4-3c40effbce8d"
      },
      "source": [
        "tp0=(1,2,3,32,2.23,43.23,\"python\",[2,32,3])\r\n",
        "print(tp0)\r\n",
        "tp1=()\r\n",
        "print(tp1)"
      ],
      "execution_count": null,
      "outputs": [
        {
          "output_type": "stream",
          "text": [
            "(1, 2, 3, 32, 2.23, 43.23, 'python', [2, 32, 3])\n",
            "()\n"
          ],
          "name": "stdout"
        }
      ]
    },
    {
      "cell_type": "code",
      "metadata": {
        "colab": {
          "base_uri": "https://localhost:8080/"
        },
        "id": "dsLtG6RIXuj_",
        "outputId": "711b1d49-b4a2-43fc-85cb-85685351064b"
      },
      "source": [
        "type(tp0)"
      ],
      "execution_count": null,
      "outputs": [
        {
          "output_type": "execute_result",
          "data": {
            "text/plain": [
              "tuple"
            ]
          },
          "metadata": {
            "tags": []
          },
          "execution_count": 14
        }
      ]
    },
    {
      "cell_type": "code",
      "metadata": {
        "colab": {
          "base_uri": "https://localhost:8080/"
        },
        "id": "xs_CMGv0Xl0W",
        "outputId": "d5e6da02-c2f8-4658-dddf-6fe854ccd835"
      },
      "source": [
        "array={1,3,5,7}\r\n",
        "array"
      ],
      "execution_count": null,
      "outputs": [
        {
          "output_type": "execute_result",
          "data": {
            "text/plain": [
              "{1, 3, 5, 7}"
            ]
          },
          "metadata": {
            "tags": []
          },
          "execution_count": 15
        }
      ]
    },
    {
      "cell_type": "code",
      "metadata": {
        "colab": {
          "base_uri": "https://localhost:8080/"
        },
        "id": "uTR8QAnTXora",
        "outputId": "5a0a022e-7dec-4212-ccc3-249661c47752"
      },
      "source": [
        "tp2=tuple(array)\r\n",
        "print(tp2)"
      ],
      "execution_count": null,
      "outputs": [
        {
          "output_type": "stream",
          "text": [
            "(1, 3, 5, 7)\n"
          ],
          "name": "stdout"
        }
      ]
    },
    {
      "cell_type": "code",
      "metadata": {
        "colab": {
          "base_uri": "https://localhost:8080/"
        },
        "id": "HBe_R5X4X5nc",
        "outputId": "2b1315ae-9f8d-4026-8158-7c9229d53cfb"
      },
      "source": [
        "#iterating tuple\r\n",
        "\r\n",
        "tp0=(1,2,3,32,2.23,43.23,\"python\",[2,32,3])\r\n",
        "for i in tp0:\r\n",
        "    print(i,end=' ')\r\n",
        "print('')"
      ],
      "execution_count": null,
      "outputs": [
        {
          "output_type": "stream",
          "text": [
            "1 2 3 32 2.23 43.23 python [2, 32, 3] \n"
          ],
          "name": "stdout"
        }
      ]
    },
    {
      "cell_type": "code",
      "metadata": {
        "colab": {
          "base_uri": "https://localhost:8080/"
        },
        "id": "izGaAWGHX_TB",
        "outputId": "b9e7d284-4e9a-4dce-c260-686fd82238dc"
      },
      "source": [
        "tp0=(1,2,3,32,2.23,43.23,\"python\",[2,32,3])\r\n",
        "print(tp0[2])\r\n",
        "print(tp0[6])\r\n",
        "print(tp0[-2])\r\n",
        "print(tp0[7][2])"
      ],
      "execution_count": null,
      "outputs": [
        {
          "output_type": "stream",
          "text": [
            "3\n",
            "python\n",
            "python\n",
            "3\n"
          ],
          "name": "stdout"
        }
      ]
    },
    {
      "cell_type": "code",
      "metadata": {
        "colab": {
          "base_uri": "https://localhost:8080/"
        },
        "id": "6b12eeiVYKuC",
        "outputId": "a12302ab-04fe-480a-9f02-cf52a1d12055"
      },
      "source": [
        "#inserting into tuple\r\n",
        "\r\n",
        "tp0 = (1,2,3,32,2.23,43.23,\"python\",[2,32,3])\r\n",
        "tp0 = tp0 + (\"pandas\",232,3,232,3)\r\n",
        "print(tp0)"
      ],
      "execution_count": null,
      "outputs": [
        {
          "output_type": "stream",
          "text": [
            "(1, 2, 3, 32, 2.23, 43.23, 'python', [2, 32, 3], 'pandas', 232, 3, 232, 3)\n"
          ],
          "name": "stdout"
        }
      ]
    },
    {
      "cell_type": "code",
      "metadata": {
        "colab": {
          "base_uri": "https://localhost:8080/"
        },
        "id": "xc_nHPx4cy84",
        "outputId": "eebc1c98-63e9-4d05-9ab8-b312193d7598"
      },
      "source": [
        "print(tp0.count(3))"
      ],
      "execution_count": null,
      "outputs": [
        {
          "output_type": "stream",
          "text": [
            "3\n"
          ],
          "name": "stdout"
        }
      ]
    },
    {
      "cell_type": "code",
      "metadata": {
        "colab": {
          "base_uri": "https://localhost:8080/"
        },
        "id": "L-dcIcZuc-CA",
        "outputId": "4c1b69c6-6a4d-4fd0-9e18-98181a4000bd"
      },
      "source": [
        "print(tp0.index([2, 32, 3]))"
      ],
      "execution_count": null,
      "outputs": [
        {
          "output_type": "stream",
          "text": [
            "7\n"
          ],
          "name": "stdout"
        }
      ]
    },
    {
      "cell_type": "code",
      "metadata": {
        "colab": {
          "base_uri": "https://localhost:8080/",
          "height": 175
        },
        "id": "Pfa9kmNodeUs",
        "outputId": "e08b5d71-cf33-435f-f806-b354570b8ef1"
      },
      "source": [
        "tp0[3] = 6"
      ],
      "execution_count": null,
      "outputs": [
        {
          "output_type": "error",
          "ename": "TypeError",
          "evalue": "ignored",
          "traceback": [
            "\u001b[0;31m---------------------------------------------------------------------------\u001b[0m",
            "\u001b[0;31mTypeError\u001b[0m                                 Traceback (most recent call last)",
            "\u001b[0;32m<ipython-input-26-68b775024582>\u001b[0m in \u001b[0;36m<module>\u001b[0;34m()\u001b[0m\n\u001b[0;32m----> 1\u001b[0;31m \u001b[0mtp0\u001b[0m\u001b[0;34m[\u001b[0m\u001b[0;36m3\u001b[0m\u001b[0;34m]\u001b[0m \u001b[0;34m=\u001b[0m \u001b[0;36m6\u001b[0m\u001b[0;34m\u001b[0m\u001b[0;34m\u001b[0m\u001b[0m\n\u001b[0m",
            "\u001b[0;31mTypeError\u001b[0m: 'tuple' object does not support item assignment"
          ]
        }
      ]
    },
    {
      "cell_type": "code",
      "metadata": {
        "id": "5feTZhu2d4oI"
      },
      "source": [
        "del tp0"
      ],
      "execution_count": null,
      "outputs": []
    },
    {
      "cell_type": "code",
      "metadata": {
        "colab": {
          "base_uri": "https://localhost:8080/",
          "height": 175
        },
        "id": "JHVvmBpOd70H",
        "outputId": "c764f5e5-48cf-4b9f-a1b9-0781f36aaaee"
      },
      "source": [
        "tp0"
      ],
      "execution_count": null,
      "outputs": [
        {
          "output_type": "error",
          "ename": "NameError",
          "evalue": "ignored",
          "traceback": [
            "\u001b[0;31m---------------------------------------------------------------------------\u001b[0m",
            "\u001b[0;31mNameError\u001b[0m                                 Traceback (most recent call last)",
            "\u001b[0;32m<ipython-input-28-37d2c903759f>\u001b[0m in \u001b[0;36m<module>\u001b[0;34m()\u001b[0m\n\u001b[0;32m----> 1\u001b[0;31m \u001b[0mtp0\u001b[0m\u001b[0;34m\u001b[0m\u001b[0;34m\u001b[0m\u001b[0m\n\u001b[0m",
            "\u001b[0;31mNameError\u001b[0m: name 'tp0' is not defined"
          ]
        }
      ]
    },
    {
      "cell_type": "markdown",
      "metadata": {
        "id": "D7mapFrSeaRN"
      },
      "source": [
        "#Dictionary"
      ]
    },
    {
      "cell_type": "code",
      "metadata": {
        "colab": {
          "base_uri": "https://localhost:8080/"
        },
        "id": "m3T-kLq8eUDM",
        "outputId": "06e88241-216f-4ef0-a47a-18ba8df4384a"
      },
      "source": [
        "my_dict = {1: 'Python',\r\n",
        "           2: 'Java',\r\n",
        "           3: 'C++', \r\n",
        "           4: 'Swift'}\r\n",
        "print(my_dict)\r\n",
        "\r\n",
        "my_dict1 = {} \r\n",
        "print(my_dict1)"
      ],
      "execution_count": null,
      "outputs": [
        {
          "output_type": "stream",
          "text": [
            "{1: 'Python', 2: 'Java', 3: 'C++', 4: 'Swift'}\n",
            "{}\n"
          ],
          "name": "stdout"
        }
      ]
    },
    {
      "cell_type": "code",
      "metadata": {
        "colab": {
          "base_uri": "https://localhost:8080/"
        },
        "id": "NQfmy6G6eq5C",
        "outputId": "1355ebf9-501b-445a-9a17-f2222e356495"
      },
      "source": [
        "type(my_dict)"
      ],
      "execution_count": null,
      "outputs": [
        {
          "output_type": "execute_result",
          "data": {
            "text/plain": [
              "dict"
            ]
          },
          "metadata": {
            "tags": []
          },
          "execution_count": 30
        }
      ]
    },
    {
      "cell_type": "code",
      "metadata": {
        "colab": {
          "base_uri": "https://localhost:8080/"
        },
        "id": "NVAJyIYxfQZv",
        "outputId": "5a19c0d1-8220-4222-d2a6-ff16ea4d84c4"
      },
      "source": [
        "my_dict[2] = 'JAVA' #changing element\r\n",
        "my_dict"
      ],
      "execution_count": null,
      "outputs": [
        {
          "output_type": "execute_result",
          "data": {
            "text/plain": [
              "{1: 'Python', 2: 'JAVA', 3: 'C++', 4: 'Swift'}"
            ]
          },
          "metadata": {
            "tags": []
          },
          "execution_count": 31
        }
      ]
    },
    {
      "cell_type": "code",
      "metadata": {
        "colab": {
          "base_uri": "https://localhost:8080/"
        },
        "id": "dOfBLmuzf2Xh",
        "outputId": "f6b0b5d7-f0b2-4324-b771-78bc54b82e86"
      },
      "source": [
        "my_dict[1] = 'Ruby' #adding key-value pair\r\n",
        "print(my_dict)"
      ],
      "execution_count": null,
      "outputs": [
        {
          "output_type": "stream",
          "text": [
            "{1: 'Ruby', 2: 'JAVA', 3: 'C++', 4: 'Swift', 5: 'Ruby'}\n"
          ],
          "name": "stdout"
        }
      ]
    },
    {
      "cell_type": "code",
      "metadata": {
        "colab": {
          "base_uri": "https://localhost:8080/",
          "height": 36
        },
        "id": "RyguEbIugHO6",
        "outputId": "1ef0c24c-c8e8-4ae6-912e-c8d4dee7df54"
      },
      "source": [
        "my_dict[4]"
      ],
      "execution_count": null,
      "outputs": [
        {
          "output_type": "execute_result",
          "data": {
            "application/vnd.google.colaboratory.intrinsic+json": {
              "type": "string"
            },
            "text/plain": [
              "'Swift'"
            ]
          },
          "metadata": {
            "tags": []
          },
          "execution_count": 34
        }
      ]
    },
    {
      "cell_type": "code",
      "metadata": {
        "colab": {
          "base_uri": "https://localhost:8080/"
        },
        "id": "naZn7zkXgV8Q",
        "outputId": "b07c5711-9ad0-44e9-90b3-43654b23b46c"
      },
      "source": [
        "my_dict.pop(4)\r\n",
        "my_dict"
      ],
      "execution_count": null,
      "outputs": [
        {
          "output_type": "execute_result",
          "data": {
            "text/plain": [
              "{1: 'Ruby', 2: 'JAVA', 3: 'C++', 5: 'Ruby'}"
            ]
          },
          "metadata": {
            "tags": []
          },
          "execution_count": 35
        }
      ]
    },
    {
      "cell_type": "code",
      "metadata": {
        "colab": {
          "base_uri": "https://localhost:8080/"
        },
        "id": "cM18CKZOgiUu",
        "outputId": "6237675c-95ac-4600-b25e-d23b996bb7c7"
      },
      "source": [
        "my_dict.popitem()\r\n",
        "my_dict"
      ],
      "execution_count": null,
      "outputs": [
        {
          "output_type": "execute_result",
          "data": {
            "text/plain": [
              "{1: 'Ruby'}"
            ]
          },
          "metadata": {
            "tags": []
          },
          "execution_count": 38
        }
      ]
    },
    {
      "cell_type": "code",
      "metadata": {
        "id": "-HTnvja9gn-Q"
      },
      "source": [
        "my_dict.clear()"
      ],
      "execution_count": null,
      "outputs": []
    },
    {
      "cell_type": "code",
      "metadata": {
        "colab": {
          "base_uri": "https://localhost:8080/"
        },
        "id": "voOBjlAfgpqJ",
        "outputId": "5dc7cecc-e450-41fa-e2ba-74e40e5a2d49"
      },
      "source": [
        "my_dict"
      ],
      "execution_count": null,
      "outputs": [
        {
          "output_type": "execute_result",
          "data": {
            "text/plain": [
              "{}"
            ]
          },
          "metadata": {
            "tags": []
          },
          "execution_count": 40
        }
      ]
    },
    {
      "cell_type": "code",
      "metadata": {
        "colab": {
          "base_uri": "https://localhost:8080/"
        },
        "id": "YybOV8hFgynm",
        "outputId": "ea92397b-bfb7-40de-a8d5-a176c94421b6"
      },
      "source": [
        "my_dict = {1: 'Python', 2: 'Java', 3: 'Ruby'}\r\n",
        "print(my_dict.keys()) #get keys\r\n",
        "print(my_dict.values()) #get values\r\n",
        "print(my_dict.items()) #get key-value pairs\r\n",
        "print(my_dict.get(1))"
      ],
      "execution_count": null,
      "outputs": [
        {
          "output_type": "stream",
          "text": [
            "dict_keys([1, 2, 3])\n",
            "dict_values(['Python', 'Java', 'Ruby'])\n",
            "dict_items([(1, 'Python'), (2, 'Java'), (3, 'Ruby')])\n",
            "Python\n"
          ],
          "name": "stdout"
        }
      ]
    },
    {
      "cell_type": "markdown",
      "metadata": {
        "id": "T4QFHz6BhI4N"
      },
      "source": [
        "#Set"
      ]
    },
    {
      "cell_type": "code",
      "metadata": {
        "colab": {
          "base_uri": "https://localhost:8080/"
        },
        "id": "fxbcqCJThKuc",
        "outputId": "10cbe6f5-0214-405c-c5cf-92d08c0e08d3"
      },
      "source": [
        "my_set = {9, 1, 2, 3, 5, 5, 5,4}\r\n",
        "print(my_set)"
      ],
      "execution_count": null,
      "outputs": [
        {
          "output_type": "stream",
          "text": [
            "{1, 2, 3, 4, 5, 9}\n"
          ],
          "name": "stdout"
        }
      ]
    },
    {
      "cell_type": "code",
      "metadata": {
        "colab": {
          "base_uri": "https://localhost:8080/"
        },
        "id": "KfGB1FFZhbSD",
        "outputId": "b8ec27b2-17b5-422a-a474-4dac63743833"
      },
      "source": [
        "my_set1 = {}\r\n",
        "print(my_set1)"
      ],
      "execution_count": null,
      "outputs": [
        {
          "output_type": "stream",
          "text": [
            "{}\n"
          ],
          "name": "stdout"
        }
      ]
    },
    {
      "cell_type": "code",
      "metadata": {
        "colab": {
          "base_uri": "https://localhost:8080/"
        },
        "id": "sOEFOS9Chf50",
        "outputId": "d893845c-6065-4019-94ee-be9f6a7e6fd4"
      },
      "source": [
        "type(my_set)"
      ],
      "execution_count": null,
      "outputs": [
        {
          "output_type": "execute_result",
          "data": {
            "text/plain": [
              "set"
            ]
          },
          "metadata": {
            "tags": []
          },
          "execution_count": 45
        }
      ]
    },
    {
      "cell_type": "code",
      "metadata": {
        "id": "0wjIVyruhqD0"
      },
      "source": [
        "my_set.add(7)"
      ],
      "execution_count": null,
      "outputs": []
    },
    {
      "cell_type": "code",
      "metadata": {
        "colab": {
          "base_uri": "https://localhost:8080/"
        },
        "id": "KcTgJFYohxbT",
        "outputId": "6bc3d777-f2ab-4e1d-c3e3-6a19ebbb089e"
      },
      "source": [
        "my_set"
      ],
      "execution_count": null,
      "outputs": [
        {
          "output_type": "execute_result",
          "data": {
            "text/plain": [
              "{1, 2, 3, 4, 5, 7, 9}"
            ]
          },
          "metadata": {
            "tags": []
          },
          "execution_count": 47
        }
      ]
    },
    {
      "cell_type": "code",
      "metadata": {
        "id": "WDJQr-H1iDom"
      },
      "source": [
        "my_set = {1, 2, 3, 4}\r\n",
        "my_set_2 = {3, 4, 5, 6}"
      ],
      "execution_count": null,
      "outputs": []
    },
    {
      "cell_type": "code",
      "metadata": {
        "colab": {
          "base_uri": "https://localhost:8080/"
        },
        "id": "hZSeAwZQiKy7",
        "outputId": "3d3b9c79-e52e-4b79-bb54-3c711f8bf76b"
      },
      "source": [
        "my_set.union(my_set_2)"
      ],
      "execution_count": null,
      "outputs": [
        {
          "output_type": "execute_result",
          "data": {
            "text/plain": [
              "{1, 2, 3, 4, 5, 6}"
            ]
          },
          "metadata": {
            "tags": []
          },
          "execution_count": 49
        }
      ]
    },
    {
      "cell_type": "code",
      "metadata": {
        "colab": {
          "base_uri": "https://localhost:8080/"
        },
        "id": "GPYNCYKuiTDC",
        "outputId": "b9e21b3d-3dfb-4e0c-9ed6-006eeb96153e"
      },
      "source": [
        "my_set.intersection(my_set_2)"
      ],
      "execution_count": null,
      "outputs": [
        {
          "output_type": "execute_result",
          "data": {
            "text/plain": [
              "{3, 4}"
            ]
          },
          "metadata": {
            "tags": []
          },
          "execution_count": 50
        }
      ]
    },
    {
      "cell_type": "code",
      "metadata": {
        "colab": {
          "base_uri": "https://localhost:8080/"
        },
        "id": "ts6BacBhiW5a",
        "outputId": "09c44d86-e215-47da-cacb-2576277ba92c"
      },
      "source": [
        "my_set.difference(my_set_2)"
      ],
      "execution_count": null,
      "outputs": [
        {
          "output_type": "execute_result",
          "data": {
            "text/plain": [
              "{1, 2}"
            ]
          },
          "metadata": {
            "tags": []
          },
          "execution_count": 51
        }
      ]
    },
    {
      "cell_type": "code",
      "metadata": {
        "colab": {
          "base_uri": "https://localhost:8080/"
        },
        "id": "lxNfmoZ2i23B",
        "outputId": "874b83ab-7c79-4f04-8f9a-32d775024646"
      },
      "source": [
        "my_set.symmetric_difference(my_set_2)"
      ],
      "execution_count": null,
      "outputs": [
        {
          "output_type": "execute_result",
          "data": {
            "text/plain": [
              "{1, 2, 5, 6}"
            ]
          },
          "metadata": {
            "tags": []
          },
          "execution_count": 52
        }
      ]
    },
    {
      "cell_type": "code",
      "metadata": {
        "id": "XzTUnGmHjHSh"
      },
      "source": [
        "my_set.clear()"
      ],
      "execution_count": null,
      "outputs": []
    },
    {
      "cell_type": "markdown",
      "metadata": {
        "id": "c9xQFlfZGBES"
      },
      "source": [
        "#Shallow and Deep Copy"
      ]
    },
    {
      "cell_type": "code",
      "metadata": {
        "id": "2yQIsGp8D8U7"
      },
      "source": [
        "import copy\r\n",
        "\r\n",
        "li1 = [1, 2, [3,5], 4]  "
      ],
      "execution_count": null,
      "outputs": []
    },
    {
      "cell_type": "code",
      "metadata": {
        "id": "pNO6iR9EkT7p"
      },
      "source": [
        "li2 = copy.deepcopy(li1) "
      ],
      "execution_count": null,
      "outputs": []
    },
    {
      "cell_type": "code",
      "metadata": {
        "id": "A-zlMp8Kkheq",
        "colab": {
          "base_uri": "https://localhost:8080/"
        },
        "outputId": "dad1d028-a561-4c6e-c99b-6321bef19844"
      },
      "source": [
        "li2"
      ],
      "execution_count": null,
      "outputs": [
        {
          "output_type": "execute_result",
          "data": {
            "text/plain": [
              "[1, 2, [3, 5], 4]"
            ]
          },
          "metadata": {
            "tags": []
          },
          "execution_count": 66
        }
      ]
    },
    {
      "cell_type": "code",
      "metadata": {
        "id": "-rmtdDYHmE8G",
        "colab": {
          "base_uri": "https://localhost:8080/"
        },
        "outputId": "e0949a9e-8ed8-403e-b57c-705714b1677d"
      },
      "source": [
        "li1"
      ],
      "execution_count": null,
      "outputs": [
        {
          "output_type": "execute_result",
          "data": {
            "text/plain": [
              "[1, 2, [3, 5], 4]"
            ]
          },
          "metadata": {
            "tags": []
          },
          "execution_count": 67
        }
      ]
    },
    {
      "cell_type": "code",
      "metadata": {
        "id": "4nj0b8NKmaO1"
      },
      "source": [
        "li2[2][0] = 'Z'"
      ],
      "execution_count": null,
      "outputs": []
    },
    {
      "cell_type": "code",
      "metadata": {
        "id": "OuOa3o9kmmKd",
        "colab": {
          "base_uri": "https://localhost:8080/"
        },
        "outputId": "8471c198-cdb1-4f42-ea0c-db8dfc274183"
      },
      "source": [
        "li2"
      ],
      "execution_count": null,
      "outputs": [
        {
          "output_type": "execute_result",
          "data": {
            "text/plain": [
              "[1, 2, ['Z', 5], 4]"
            ]
          },
          "metadata": {
            "tags": []
          },
          "execution_count": 69
        }
      ]
    },
    {
      "cell_type": "code",
      "metadata": {
        "id": "6jnKPZERmpMm",
        "colab": {
          "base_uri": "https://localhost:8080/"
        },
        "outputId": "59a64e0f-417b-4325-ebf9-3a2cdd5850fe"
      },
      "source": [
        "li1"
      ],
      "execution_count": null,
      "outputs": [
        {
          "output_type": "execute_result",
          "data": {
            "text/plain": [
              "[1, 2, [3, 5], 4]"
            ]
          },
          "metadata": {
            "tags": []
          },
          "execution_count": 70
        }
      ]
    }
  ]
}